{
 "cells": [
  {
   "cell_type": "code",
   "execution_count": 2,
   "id": "12abfcd6-f975-4687-aa1a-4934def08b3a",
   "metadata": {},
   "outputs": [],
   "source": [
    "# Establish AWS session\n",
    "import boto3\n",
    "import sagemaker\n",
    "\n",
    "from sagemaker import get_execution_role\n",
    "\n",
    "session = boto3.Session()\n",
    "\n",
    "role = get_execution_role()"
   ]
  },
  {
   "cell_type": "code",
   "execution_count": 3,
   "id": "23c049b4-c876-4f02-8183-14472242e59a",
   "metadata": {},
   "outputs": [],
   "source": [
    "# Import sample dataset\n",
    "\n",
    "from sklearn import datasets\n",
    "\n",
    "iris = datasets.load_iris()"
   ]
  },
  {
   "cell_type": "code",
   "execution_count": 4,
   "id": "36939951-e089-4de7-9a26-ad1bfe33941d",
   "metadata": {},
   "outputs": [],
   "source": [
    "# Split data and target\n",
    "\n",
    "X = iris.data\n",
    "y = iris.target"
   ]
  },
  {
   "cell_type": "code",
   "execution_count": 5,
   "id": "c0e9d850-e33c-4564-b0c0-7113d68eb038",
   "metadata": {},
   "outputs": [
    {
     "data": {
      "text/plain": [
       "(numpy.ndarray, numpy.ndarray)"
      ]
     },
     "execution_count": 5,
     "metadata": {},
     "output_type": "execute_result"
    }
   ],
   "source": [
    "# Notice the data types\n",
    "type(X), type(y)"
   ]
  },
  {
   "cell_type": "code",
   "execution_count": 6,
   "id": "ffa4eb09-7064-4353-9197-e68796bb0c49",
   "metadata": {},
   "outputs": [
    {
     "data": {
      "text/plain": [
       "(array([[5.1, 3.5, 1.4, 0.2],\n",
       "        [4.9, 3. , 1.4, 0.2],\n",
       "        [4.7, 3.2, 1.3, 0.2],\n",
       "        [4.6, 3.1, 1.5, 0.2],\n",
       "        [5. , 3.6, 1.4, 0.2],\n",
       "        [5.4, 3.9, 1.7, 0.4],\n",
       "        [4.6, 3.4, 1.4, 0.3],\n",
       "        [5. , 3.4, 1.5, 0.2],\n",
       "        [4.4, 2.9, 1.4, 0.2],\n",
       "        [4.9, 3.1, 1.5, 0.1]], dtype=float32),\n",
       " array([0., 0., 0., 0., 0., 0., 0., 0., 0., 0.], dtype=float32))"
      ]
     },
     "execution_count": 6,
     "metadata": {},
     "output_type": "execute_result"
    }
   ],
   "source": [
    "# Convert numpy arrays to float32 type, as required by the algorithm\n",
    "X = X.astype(\"float32\")\n",
    "y = y.astype(\"float32\")\n",
    "\n",
    "X[:10,:], y[:10]"
   ]
  },
  {
   "cell_type": "code",
   "execution_count": 43,
   "id": "bfd41d90-4a4b-422d-b0c9-137dd223e99f",
   "metadata": {},
   "outputs": [
    {
     "data": {
      "text/plain": [
       "0"
      ]
     },
     "execution_count": 43,
     "metadata": {},
     "output_type": "execute_result"
    }
   ],
   "source": [
    "# Convert data to record-IO wrapped protobuf: Sagemaker algorithms generally require this\n",
    "import io\n",
    "import numpy as np\n",
    "import sagemaker.amazon.common as smac\n",
    "\n",
    "\n",
    "buf = io.BytesIO()\n",
    "smac.write_numpy_to_dense_tensor(buf, X, y)\n",
    "buf.seek(0)"
   ]
  },
  {
   "cell_type": "code",
   "execution_count": 44,
   "id": "0482de9f-f5b7-48aa-a27c-13488c332b9a",
   "metadata": {},
   "outputs": [
    {
     "data": {
      "text/plain": [
       "<_io.BytesIO at 0x7faa2cd3de30>"
      ]
     },
     "execution_count": 44,
     "metadata": {},
     "output_type": "execute_result"
    }
   ],
   "source": [
    "# Now it has been converted to the right format\n",
    "buf"
   ]
  },
  {
   "cell_type": "code",
   "execution_count": 45,
   "id": "e20dccfe-ba88-4732-8d6a-5a6697a37016",
   "metadata": {},
   "outputs": [],
   "source": [
    "# Upload data to S3: Sagemaker reads record-IO wrapped protobuf from S3 for model training\n",
    "bucket = sagemaker.Session().default_bucket()\n",
    "\n",
    "boto3.resource(\"s3\").Bucket(bucket).Object(\"iris-linear-learner/train-pb\").upload_fileobj(buf)\n",
    "\n",
    "train_data = f\"s3://{bucket}/iris-linear-learner/train-pb\""
   ]
  },
  {
   "cell_type": "code",
   "execution_count": 47,
   "id": "f7c099a7-8ae3-4067-bfc2-8c1b8c222dc4",
   "metadata": {},
   "outputs": [],
   "source": [
    "# Set s3 location for saved model artifacts\n",
    "artifact_location = f\"s3://{bucket}/iris-linear-learner/artfacts\""
   ]
  },
  {
   "cell_type": "code",
   "execution_count": 48,
   "id": "69cf511a-392c-4da1-9323-44c10c0dcf2f",
   "metadata": {},
   "outputs": [],
   "source": [
    "# Retrieve the container image containing the Sagemaker-provided model\n",
    "from sagemaker.image_uris import retrieve\n",
    "\n",
    "container = retrieve(\"linear-learner\", session.region_name)"
   ]
  },
  {
   "cell_type": "code",
   "execution_count": null,
   "id": "b43beff1-8ff0-4961-b5c5-0a8dbef7cd59",
   "metadata": {},
   "outputs": [],
   "source": [
    "# Train the model (not including model evaluation)\n",
    "sess = sagemaker.Session()\n",
    "\n",
    "model = sagemaker.estimator.Estimator(\n",
    "    container, # container image for model\n",
    "    role, # execution role\n",
    "    instance_count=1,\n",
    "    instance_type='ml.m4.xlarge',\n",
    "    output_path=artifact_location,\n",
    "    sagemaker_session=sess\n",
    ")\n",
    "model.set_hyperparameters(feature_dim='auto', predictor_type=\"multiclass_classifier\", num_classes=3, mini_batch_size=10)\n",
    "\n",
    "model.fit({\"train\": train_data})"
   ]
  },
  {
   "cell_type": "code",
   "execution_count": 60,
   "id": "d2ad973b-01fa-4238-a75d-5f110d900238",
   "metadata": {},
   "outputs": [
    {
     "name": "stdout",
     "output_type": "stream",
     "text": [
      "-----------!"
     ]
    }
   ],
   "source": [
    "# Deploy model API endpoint\n",
    "endpoint_name = f\"iris-linearlearner-demo\"\n",
    "\n",
    "model_endpoint = model.deploy(initial_instance_count=1, instance_type=\"ml.m4.xlarge\", endpoint_name=endpoint_name)"
   ]
  },
  {
   "cell_type": "code",
   "execution_count": null,
   "id": "e3dcc4c7-04bc-492c-83c9-5c072b41a2ff",
   "metadata": {},
   "outputs": [],
   "source": []
  }
 ],
 "metadata": {
  "instance_type": "ml.t3.medium",
  "kernelspec": {
   "display_name": "Python 3 (Data Science)",
   "language": "python",
   "name": "python3__SAGEMAKER_INTERNAL__arn:aws:sagemaker:us-east-1:081325390199:image/datascience-1.0"
  },
  "language_info": {
   "codemirror_mode": {
    "name": "ipython",
    "version": 3
   },
   "file_extension": ".py",
   "mimetype": "text/x-python",
   "name": "python",
   "nbconvert_exporter": "python",
   "pygments_lexer": "ipython3",
   "version": "3.7.10"
  }
 },
 "nbformat": 4,
 "nbformat_minor": 5
}
